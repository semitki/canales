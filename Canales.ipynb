{
 "cells": [
  {
   "cell_type": "code",
   "execution_count": 129,
   "metadata": {
    "scrolled": true
   },
   "outputs": [
    {
     "name": "stdout",
     "output_type": "stream",
     "text": [
      "Item\n"
     ]
    },
    {
     "ename": "TypeError",
     "evalue": "'NoneType' object is not subscriptable",
     "output_type": "error",
     "traceback": [
      "\u001b[0;31m---------------------------------------------------------------------------\u001b[0m",
      "\u001b[0;31mTypeError\u001b[0m                                 Traceback (most recent call last)",
      "\u001b[0;32m<ipython-input-129-4b8318fbeacc>\u001b[0m in \u001b[0;36m<module>\u001b[0;34m()\u001b[0m\n\u001b[1;32m     38\u001b[0m \u001b[0mcreate_table\u001b[0m \u001b[0;34m=\u001b[0m \u001b[0;34m(\u001b[0m\u001b[0;34m\"CREATE TABLE %s (\\n\\r\"\u001b[0m \u001b[0;34m%\u001b[0m \u001b[0mt_name\u001b[0m\u001b[0;34m)\u001b[0m\u001b[0;34m\u001b[0m\u001b[0m\n\u001b[1;32m     39\u001b[0m \u001b[0;32mfor\u001b[0m \u001b[0mc\u001b[0m \u001b[0;32min\u001b[0m \u001b[0mt_cols\u001b[0m\u001b[0;34m:\u001b[0m\u001b[0;34m\u001b[0m\u001b[0m\n\u001b[0;32m---> 40\u001b[0;31m     \u001b[0mprint\u001b[0m\u001b[0;34m(\u001b[0m\u001b[0mc\u001b[0m\u001b[0;34m[\u001b[0m\u001b[0;36m0\u001b[0m\u001b[0;34m]\u001b[0m\u001b[0;34m)\u001b[0m\u001b[0;34m\u001b[0m\u001b[0m\n\u001b[0m\u001b[1;32m     41\u001b[0m     \u001b[0mc_name\u001b[0m \u001b[0;34m=\u001b[0m \u001b[0mc\u001b[0m\u001b[0;34m[\u001b[0m\u001b[0;36m0\u001b[0m\u001b[0;34m]\u001b[0m\u001b[0;34m.\u001b[0m\u001b[0mreplace\u001b[0m\u001b[0;34m(\u001b[0m\u001b[0;34m' '\u001b[0m\u001b[0;34m,\u001b[0m \u001b[0;34m'_'\u001b[0m\u001b[0;34m)\u001b[0m\u001b[0;34m\u001b[0m\u001b[0m\n\u001b[1;32m     42\u001b[0m     \u001b[0;32mif\u001b[0m \u001b[0mcont\u001b[0m \u001b[0;34m<\u001b[0m \u001b[0mlen\u001b[0m\u001b[0;34m(\u001b[0m\u001b[0mt_cols\u001b[0m\u001b[0;34m)\u001b[0m\u001b[0;34m-\u001b[0m\u001b[0;36m1\u001b[0m\u001b[0;34m:\u001b[0m\u001b[0;34m\u001b[0m\u001b[0m\n",
      "\u001b[0;31mTypeError\u001b[0m: 'NoneType' object is not subscriptable"
     ]
    }
   ],
   "source": [
    "import re\n",
    "import pandas as pd\n",
    "import numpy as np\n",
    "\n",
    "Location = r'./canales/media/pictures/nwpat_EErd9Nc.csv'\n",
    "df = pd.read_csv(Location)\n",
    "dwot = re.compile('\\d{2,2}/\\d{2,2}/\\d{4,4}')\n",
    "dwt = re.compile('\\d{2,2}/\\d{2,2}/\\d{4,4} \\d{1,2}:\\d{2,2}:\\d{2,2} (AM|PM)')\n",
    "t_cols = []\n",
    "\n",
    "def str_or_date(val):\n",
    "    if type(val) != str:\n",
    "        if not np.isnan(val):\n",
    "            print(val)\n",
    "            if (dwot.match(val) or dwt.match(val)):\n",
    "                return (column, 'DATETIME')\n",
    "        else:\n",
    "            return (column, \"VARCHAR(%i) CHARACTER SET utf8\" % c_len)\n",
    "    \n",
    "for column in df:\n",
    "    \n",
    "    dt = type(df[column].iloc[0])\n",
    "    if dt == str:\n",
    "        df[column].apply(lambda x: t_cols.append(str_or_date(x)))\n",
    "        #else:\n",
    "        #    c_len = df[column].apply(lambda x: len(str(x))).max()\n",
    "        #    t_cols.append((column, \"VARCHAR(%i) CHARACTER SET utf8\" % c_len))\n",
    "    elif dt == np.int64:\n",
    "        t_cols.append((column, 'INT'))\n",
    "    elif dt == float or np.float64:\n",
    "        t_cols.append((column, 'FLOAT'))\n",
    "    elif dt == np.bool_:\n",
    "        t_cols.append((column, 'BOOL'))\n",
    "\n",
    "\n",
    "cont = 0\n",
    "t_name = Location.split('/')[len(Location.split('/')) - 1].split('.')[0]\n",
    "create_table = (\"CREATE TABLE %s (\\n\\r\" % t_name)\n",
    "for c in t_cols:\n",
    "    print(c[0])\n",
    "    c_name = c[0].replace(' ', '_')\n",
    "    if cont < len(t_cols)-1:\n",
    "        create_table += '\\t`'+c_name+'` '+c[1]+',\\n\\r'\n",
    "    else:\n",
    "        create_table += '\\t`'+c_name+'` '+c[1]+'\\n\\r'\n",
    "    cont+=1\n",
    "create_table +=');'\n",
    "\n",
    "print(create_table)\n"
   ]
  },
  {
   "cell_type": "code",
   "execution_count": 115,
   "metadata": {},
   "outputs": [
    {
     "name": "stdout",
     "output_type": "stream",
     "text": [
      "<_sre.SRE_Match object; span=(0, 10), match='10/29/1944'>\n",
      "<_sre.SRE_Match object; span=(0, 21), match='07/06/2017 8:56:57 AM'>\n"
     ]
    },
    {
     "data": {
      "text/plain": [
       "True"
      ]
     },
     "execution_count": 115,
     "metadata": {},
     "output_type": "execute_result"
    }
   ],
   "source": [
    "a = '10/29/1944'\n",
    "a\n",
    "b = '07/06/2017 8:56:57 AM'\n",
    "d = re.compile('\\d{2,2}/\\d{2,2}/\\d{4,4}')\n",
    "print(d.match(a))\n",
    "dwt = re.compile('\\d{2,2}/\\d{2,2}/\\d{4,4} \\d{1,2}:\\d{2,2}:\\d{2,2} (AM|PM)')\n",
    "print(dwt.match(b))\n",
    "None == True\n",
    "type('') == str"
   ]
  },
  {
   "cell_type": "code",
   "execution_count": null,
   "metadata": {},
   "outputs": [],
   "source": []
  }
 ],
 "metadata": {
  "kernelspec": {
   "display_name": "Python 3",
   "language": "python",
   "name": "python3"
  },
  "language_info": {
   "codemirror_mode": {
    "name": "ipython",
    "version": 3
   },
   "file_extension": ".py",
   "mimetype": "text/x-python",
   "name": "python",
   "nbconvert_exporter": "python",
   "pygments_lexer": "ipython3",
   "version": "3.5.5"
  }
 },
 "nbformat": 4,
 "nbformat_minor": 2
}
